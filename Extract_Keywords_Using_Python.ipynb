{
  "cells": [
    {
      "cell_type": "markdown",
      "metadata": {
        "id": "_0if2z1QO-zQ"
      },
      "source": [
        "## Extract Keywords using Python\n"
      ]
    },
    {
      "cell_type": "code",
      "execution_count": 2,
      "metadata": {
        "colab": {
          "base_uri": "https://localhost:8080/"
        },
        "id": "yMhNWgYZPHZT",
        "outputId": "c33cb535-fbbc-4fb9-d5f0-27147eeeb28a"
      },
      "outputs": [
        {
          "name": "stdout",
          "output_type": "stream",
          "text": [
            "Collecting rake_nltk\n",
            "  Downloading https://files.pythonhosted.org/packages/8e/c4/b4ff57e541ac5624ad4b20b89c2bafd4e98f29fd83139f3a81858bdb3815/rake_nltk-1.0.4.tar.gz\n",
            "Requirement already satisfied: nltk in /usr/local/lib/python3.7/dist-packages (from rake_nltk) (3.2.5)\n",
            "Requirement already satisfied: six in /usr/local/lib/python3.7/dist-packages (from nltk->rake_nltk) (1.15.0)\n",
            "Building wheels for collected packages: rake-nltk\n",
            "  Building wheel for rake-nltk (setup.py) ... \u001b[?25l\u001b[?25hdone\n",
            "  Created wheel for rake-nltk: filename=rake_nltk-1.0.4-py2.py3-none-any.whl size=7829 sha256=982c5729b956ac502bc78fc4fa17de45bb8c3a3ae4ebfb002462260c787e51b3\n",
            "  Stored in directory: /root/.cache/pip/wheels/ef/92/fc/271b3709e71a96ffe934b27818946b795ac6b9b8ff8682483f\n",
            "Successfully built rake-nltk\n",
            "Installing collected packages: rake-nltk\n",
            "Successfully installed rake-nltk-1.0.4\n"
          ]
        }
      ],
      "source": [
        "pip install rake_nltk"
      ]
    },
    {
      "cell_type": "code",
      "execution_count": 3,
      "metadata": {
        "id": "NrHLFzAXOP5a"
      },
      "outputs": [],
      "source": [
        "from rake_nltk import Rake\n",
        "rake_nltk_var = Rake()"
      ]
    },
    {
      "cell_type": "code",
      "execution_count": 4,
      "metadata": {
        "id": "dg75IeRvQM2V"
      },
      "outputs": [],
      "source": [
        "text = \"\"\" Machine Learning (ML) is basically that field of computer science with the help of which \n",
        "      computer systems can provide sense to data in much the same way as human beings do. In simple words, \n",
        "      ML is a type of artificial intelligence that extract patterns out of raw data by using an algorithm or method. \n",
        "      The key focus of ML is to allow computer systems to learn from experience without being explicitly programmed\n",
        "       or human intervention.\"\"\""
      ]
    },
    {
      "cell_type": "code",
      "execution_count": 5,
      "metadata": {
        "colab": {
          "base_uri": "https://localhost:8080/"
        },
        "id": "UEbgQUlkQoUh",
        "outputId": "15a50963-3c63-40fb-9f87-d95b381adf86"
      },
      "outputs": [
        {
          "name": "stdout",
          "output_type": "stream",
          "text": [
            "['allow computer systems', 'computer systems', 'computer science', 'simple words', 'provide sense', 'machine learning', 'key focus', 'human intervention', 'human beings', 'extract patterns', 'explicitly programmed', 'experience without', 'artificial intelligence', 'raw data', 'data', 'way', 'using', 'type', 'much', 'ml', 'method', 'learn', 'help', 'field', 'basically', 'algorithm']\n"
          ]
        }
      ],
      "source": [
        "rake_nltk_var.extract_keywords_from_text(text)\n",
        "keyword_extracted = rake_nltk_var.get_ranked_phrases()\n",
        "print(keyword_extracted)"
      ]
    }
  ],
  "metadata": {
    "colab": {
      "authorship_tag": "ABX9TyPHoj7frodIJJic4VXeO88S",
      "include_colab_link": true,
      "name": "Extract Keywords using Python.ipynb",
      "provenance": []
    },
    "kernelspec": {
      "display_name": "Python 3",
      "name": "python3"
    },
    "language_info": {
      "name": "python"
    }
  },
  "nbformat": 4,
  "nbformat_minor": 0
}
